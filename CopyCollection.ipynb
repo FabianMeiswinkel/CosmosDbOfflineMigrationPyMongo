{
 "cells": [
  {
   "cell_type": "code",
   "execution_count": null,
   "metadata": {
    "trusted": true
   },
   "outputs": [],
   "source": "import sys\n!{sys.executable} -m pip install pymongo --user"
  },
  {
   "cell_type": "code",
   "execution_count": null,
   "metadata": {
    "trusted": true
   },
   "outputs": [],
   "source": "from pymongo import MongoClient\nfrom pymongo import ReplaceOne\nfrom pymongo.errors import BulkWriteError\nfrom pymongo.errors import OperationFailure\nimport pymongo\nimport uuid\nimport os\nimport random\nimport string\nimport time\nimport logging\n\ndef retry(func, *func_args, **kwargs):\n    retry_count = kwargs.pop(\"retry_count\", 20)\n    delay = kwargs.pop(\"delay\", 0.1)\n    attempt = 0\n    \n    while (attempt <= retry_count):\n        logging.debug('Attempt: %s', str(attempt))\n        try:\n            return func(*func_args, **kwargs)\n        except OperationFailure as failure:\n            if (attempt < retry_count and failure.code == 16500):\n                logging.debug(\"waiting for %s seconds before retyring again\", str(delay))\n                time.sleep(delay) \n                attempt += 1\n            else:\n                raise\n\ndef flush(requests, target):\n    startTime = time.perf_counter()\n\n    result = retry(target.bulk_write,\n        requests = requests,\n        ordered = False,\n        bypass_document_validation = True,\n        retry_count = 20,\n        delay = 0.05)\n\n    endTime = time.perf_counter()\n    duration =  endTime - startTime\n    logging.info('Duration: %s', str(duration))\n    \n    logging.debug('StartTime: %s', str(startTime))\n    logging.debug('EndTime: %s', str(endTime))\n    logging.debug('Acknowledged: %s', str(result.acknowledged))\n\n    if result.acknowledged:\n        logging.debug('Deleted: %s', str(result.deleted_count))\n        logging.debug('Inserted: %s', str(result.inserted_count))\n        logging.debug('Matched: %s', str(result.matched_count))\n        logging.debug('Modified: %s', str(result.modified_count))\n        logging.debug('Upserted: %s', str(result.upserted_count))\n    \n    return result\n\ndef process(source, target, lastId):\n    for doc in source.find({'id': {'$gt': lastId}}).sort('id', pymongo.ASCENDING):\n        logging.debug('Id: %s', str(doc['id']))\n\n        requests.append(ReplaceOne(\n                filter = { 'id': doc['id'] },\n                replacement = doc,\n                upsert = True))\n\n        if (len(requests) >= maxBatchSize):\n            flush(requests, target)\n            logging.info('Incremented Bookmark: %s', str(doc['id']))\n            logging.info('Progress - copied records so far: %s', str(len(requests)))\n            requests.clear()\n            \n            return doc['id']\n\n    if (len(requests) > 0):\n        flush(requests, target)\n        logging.debug('Progress - copied %s records', str(len(requests)))\n        requests.clear() \n        \n        return ''\n\nlogging.getLogger().propagate = True\nlogging.getLogger().setLevel(logging.DEBUG)\n#logging.getLogger().setLevel(logging.INFO)\n\nuri = 'mongodb://' + \\\n    os.environ['DB_ACCOUNT_NAME'] + \\\n    ':' + \\\n    os.environ['COSMOS_KEY'] + \\\n    '@' + \\\n    os.environ['DB_ACCOUNT_NAME'] + \\\n    '.documents.azure.com:10255/?ssl=true&replicaSet=globaldb'\n\nclient = MongoClient(uri)\ndatabase = client.get_database(name='testdb')\nsource = database.get_collection(name='source')\ntarget = database.get_collection(name='target')\n\nmaxBatchSize = 10\nlastId = ''\nrequests = []\ncopiedCount = 0\n    \nwhile(True):\n    lastId = retry(process, source, target, lastId, retry_count = 3, delay = 1.1)\n    \n    if (lastId == ''):\n        break\n        \nprint(\"Finished\")"
  },
  {
   "cell_type": "code",
   "execution_count": null,
   "metadata": {
    "trusted": true
   },
   "outputs": [],
   "source": ""
  }
 ],
 "metadata": {
  "kernelspec": {
   "display_name": "Python 3",
   "language": "python",
   "name": "python3"
  },
  "language_info": {
   "codemirror_mode": {
    "name": "ipython",
    "version": 3
   },
   "file_extension": ".py",
   "mimetype": "text/x-python",
   "name": "python",
   "nbconvert_exporter": "python",
   "pygments_lexer": "ipython3",
   "version": "3.6.8"
  }
 },
 "nbformat": 4,
 "nbformat_minor": 2
}