{
 "cells": [
  {
   "cell_type": "code",
   "execution_count": null,
   "metadata": {
    "trusted": true
   },
   "outputs": [],
   "source": "import sys\n!{sys.executable} -m pip install pymongo --user"
  },
  {
   "cell_type": "code",
   "execution_count": null,
   "metadata": {
    "trusted": true
   },
   "outputs": [],
   "source": "from pymongo import MongoClient\nfrom pymongo import ReplaceOne\nfrom pymongo.errors import BulkWriteError\nfrom pymongo.errors import OperationFailure\nimport uuid\nimport os\nimport random\nimport string\nimport time\nimport logging\n\ndef retry(func, *func_args, **kwargs):\n    retry_count = kwargs.pop(\"retry_count\", 20)\n    delay = kwargs.pop(\"delay\", 0.1)\n    attempt = 0\n    \n    while (attempt <= retry_count):\n        logging.debug('Attempt: %s', str(attempt))\n        try:\n            return func(*func_args, **kwargs)\n        except OperationFailure as failure:\n            if (attempt < retry_count and failure.code == 16500):\n                logging.debug(\"waiting for %s seconds before retyring again\", str(delay))\n                time.sleep(delay) \n                attempt += 1\n            else:\n                raise\n\nlogging.getLogger().propagate = True\n#logging.getLogger().setLevel(logging.DEBUG)\nlogging.getLogger().setLevel(logging.INFO)\n\nuri = 'mongodb://' + \\\n    os.environ['DB_ACCOUNT_NAME'] + \\\n    ':' + \\\n    os.environ['COSMOS_KEY'] + \\\n    '@' + \\\n    os.environ['DB_ACCOUNT_NAME'] + \\\n    '.documents.azure.com:10255/?ssl=true&replicaSet=globaldb'\n\nclient = MongoClient(uri)\ndatabase = client.get_database(name='testdb')\ncollection = database.get_collection(name='source')\n\nfor x in range (0, 5):\n    requests = []\n\n    for i in range(0, 16):\n        rowId = str(uuid.uuid4())\n        payload = str(uuid.uuid4())\n\n        requests.append(ReplaceOne(\n            filter = { 'id': rowId },\n            replacement = {\n                'id': rowId,\n                'payload': payload\n                },\n            upsert = True))\n\n    startTime = time.perf_counter()\n\n    result = retry(collection.bulk_write,\n        requests = requests,\n        ordered = False,\n        bypass_document_validation = True,\n        retry_count = 20,\n        delay = 0.05)\n    \n    endTime = time.perf_counter()\n    duration =  endTime - startTime\n    \n    logging.info('')\n    logging.info('Iteration: %s', str(x))    \n    logging.info('Duration: %s', str(duration))\n\n    logging.debug('StartTime: %s', str(startTime))\n    logging.debug('EndTime: %s', str(endTime))\n    logging.debug('Acknowledged: %s', str(result.acknowledged))\n\n    if result.acknowledged:\n        logging.debug('Deleted: %s', str(result.deleted_count))\n        logging.debug('Inserted: %s', str(result.inserted_count))\n        logging.debug('Matched: %s', str(result.matched_count))\n        logging.debug('Modified: %s', str(result.modified_count))\n        logging.debug('Upserted: %s', str(result.upserted_count))\n\nprint(\"Finished\")"
  }
 ],
 "metadata": {
  "kernelspec": {
   "display_name": "Python 3",
   "language": "python",
   "name": "python3"
  },
  "language_info": {
   "codemirror_mode": {
    "name": "ipython",
    "version": 3
   },
   "file_extension": ".py",
   "mimetype": "text/x-python",
   "name": "python",
   "nbconvert_exporter": "python",
   "pygments_lexer": "ipython3",
   "version": "3.6.8"
  }
 },
 "nbformat": 4,
 "nbformat_minor": 2
}